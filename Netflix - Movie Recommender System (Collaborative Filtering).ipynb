{
 "cells": [
  {
   "cell_type": "code",
   "execution_count": 1,
   "id": "bf9438fe",
   "metadata": {},
   "outputs": [],
   "source": [
    "# this is just to know how much time will it take to run this entire ipython notebook \n",
    "from datetime import datetime\n",
    "# globalstart = datetime.now()\n",
    "import pandas as pd\n",
    "import numpy as np\n",
    "import matplotlib\n",
    "matplotlib.use('nbagg')\n",
    "\n",
    "import matplotlib.pyplot as plt\n",
    "plt.rcParams.update({'figure.max_open_warning': 0})\n",
    "\n",
    "import seaborn as sns\n",
    "sns.set_style('whitegrid')\n",
    "import os\n",
    "from scipy import sparse\n",
    "from scipy.sparse import csr_matrix\n",
    "\n",
    "from sklearn.decomposition import TruncatedSVD\n",
    "from sklearn.metrics.pairwise import cosine_similarity\n",
    "import random\n",
    "\n",
    "%matplotlib inline"
   ]
  },
  {
   "cell_type": "code",
   "execution_count": 2,
   "id": "3e2ddeca",
   "metadata": {},
   "outputs": [],
   "source": [
    "path = 'C:/Users/silri/Desktop/Applied_AI/Movie_RS_DataSet/'"
   ]
  },
  {
   "cell_type": "code",
   "execution_count": 7,
   "id": "ceb683e0",
   "metadata": {},
   "outputs": [
    {
     "name": "stdout",
     "output_type": "stream",
     "text": [
      "Reading ratings from C:/Users/silri/Desktop/Applied_AI/Movie_RS_DataSet/combined_data_1.txt...\n",
      "Done.\n",
      "\n",
      "Reading ratings from C:/Users/silri/Desktop/Applied_AI/Movie_RS_DataSet/combined_data_2.txt...\n",
      "Done.\n",
      "\n",
      "Reading ratings from C:/Users/silri/Desktop/Applied_AI/Movie_RS_DataSet/combined_data_3.txt...\n",
      "Done.\n",
      "\n",
      "Reading ratings from C:/Users/silri/Desktop/Applied_AI/Movie_RS_DataSet/combined_data_4.txt...\n",
      "Done.\n",
      "\n",
      "Time taken : 0:03:36.282498\n"
     ]
    }
   ],
   "source": [
    "start = datetime.now()\n",
    "if not os.path.isfile('C:/Users/silri/Desktop/Applied_AI/Movie_RS_DataSet/data.csv'):\n",
    "    # Create a file 'data.csv' before reading it\n",
    "    # Read all the files in netflix and store them in one big file('data.csv')\n",
    "    # We re reading from each of the four files and appendig each rating to a global file 'train.csv'\n",
    "    data = open('C:/Users/silri/Desktop/Applied_AI/Movie_RS_DataSet/data.csv', mode='w')\n",
    "    \n",
    "    row = list()\n",
    "    files=['C:/Users/silri/Desktop/Applied_AI/Movie_RS_DataSet/combined_data_1.txt','C:/Users/silri/Desktop/Applied_AI/Movie_RS_DataSet/combined_data_2.txt', \n",
    "           'C:/Users/silri/Desktop/Applied_AI/Movie_RS_DataSet/combined_data_3.txt', 'C:/Users/silri/Desktop/Applied_AI/Movie_RS_DataSet/combined_data_4.txt']\n",
    "    for file in files:\n",
    "        print(\"Reading ratings from {}...\".format(file))\n",
    "        with open(file) as f:\n",
    "            for line in f: \n",
    "                del row[:] # you don't have to do this.\n",
    "                line = line.strip()\n",
    "                if line.endswith(':'):\n",
    "                    # All below are ratings for this movie, until another movie appears.\n",
    "                    movie_id = line.replace(':', '')\n",
    "                else:\n",
    "                    row = [x for x in line.split(',')]\n",
    "                    row.insert(0, movie_id)\n",
    "                    data.write(','.join(row))\n",
    "                    data.write('\\n')\n",
    "        print(\"Done.\\n\")\n",
    "    data.close()\n",
    "print('Time taken :', datetime.now() - start)"
   ]
  },
  {
   "cell_type": "code",
   "execution_count": 2,
   "id": "fb97c97a",
   "metadata": {},
   "outputs": [],
   "source": [
    "df = pd.read_csv('C:/Users/silri/Desktop/Applied_AI/Movie_RS_DataSet/data.csv', header=None)"
   ]
  },
  {
   "cell_type": "code",
   "execution_count": 3,
   "id": "b0082204",
   "metadata": {},
   "outputs": [
    {
     "data": {
      "text/html": [
       "<div>\n",
       "<style scoped>\n",
       "    .dataframe tbody tr th:only-of-type {\n",
       "        vertical-align: middle;\n",
       "    }\n",
       "\n",
       "    .dataframe tbody tr th {\n",
       "        vertical-align: top;\n",
       "    }\n",
       "\n",
       "    .dataframe thead th {\n",
       "        text-align: right;\n",
       "    }\n",
       "</style>\n",
       "<table border=\"1\" class=\"dataframe\">\n",
       "  <thead>\n",
       "    <tr style=\"text-align: right;\">\n",
       "      <th></th>\n",
       "      <th>0</th>\n",
       "      <th>1</th>\n",
       "      <th>2</th>\n",
       "      <th>3</th>\n",
       "    </tr>\n",
       "  </thead>\n",
       "  <tbody>\n",
       "    <tr>\n",
       "      <th>0</th>\n",
       "      <td>1</td>\n",
       "      <td>1488844</td>\n",
       "      <td>3</td>\n",
       "      <td>2005-09-06</td>\n",
       "    </tr>\n",
       "    <tr>\n",
       "      <th>1</th>\n",
       "      <td>1</td>\n",
       "      <td>822109</td>\n",
       "      <td>5</td>\n",
       "      <td>2005-05-13</td>\n",
       "    </tr>\n",
       "    <tr>\n",
       "      <th>2</th>\n",
       "      <td>1</td>\n",
       "      <td>885013</td>\n",
       "      <td>4</td>\n",
       "      <td>2005-10-19</td>\n",
       "    </tr>\n",
       "    <tr>\n",
       "      <th>3</th>\n",
       "      <td>1</td>\n",
       "      <td>30878</td>\n",
       "      <td>4</td>\n",
       "      <td>2005-12-26</td>\n",
       "    </tr>\n",
       "    <tr>\n",
       "      <th>4</th>\n",
       "      <td>1</td>\n",
       "      <td>823519</td>\n",
       "      <td>3</td>\n",
       "      <td>2004-05-03</td>\n",
       "    </tr>\n",
       "  </tbody>\n",
       "</table>\n",
       "</div>"
      ],
      "text/plain": [
       "   0        1  2           3\n",
       "0  1  1488844  3  2005-09-06\n",
       "1  1   822109  5  2005-05-13\n",
       "2  1   885013  4  2005-10-19\n",
       "3  1    30878  4  2005-12-26\n",
       "4  1   823519  3  2004-05-03"
      ]
     },
     "execution_count": 3,
     "metadata": {},
     "output_type": "execute_result"
    }
   ],
   "source": [
    "df.head()"
   ]
  },
  {
   "cell_type": "code",
   "execution_count": 4,
   "id": "f2d52c3e",
   "metadata": {},
   "outputs": [],
   "source": [
    "df.rename({0:'Movie_ID',1:'User_ID',2:'Rating',3:'Date'},axis=1,inplace=True)"
   ]
  },
  {
   "cell_type": "code",
   "execution_count": 5,
   "id": "5a8ee7e9",
   "metadata": {},
   "outputs": [
    {
     "data": {
      "text/html": [
       "<div>\n",
       "<style scoped>\n",
       "    .dataframe tbody tr th:only-of-type {\n",
       "        vertical-align: middle;\n",
       "    }\n",
       "\n",
       "    .dataframe tbody tr th {\n",
       "        vertical-align: top;\n",
       "    }\n",
       "\n",
       "    .dataframe thead th {\n",
       "        text-align: right;\n",
       "    }\n",
       "</style>\n",
       "<table border=\"1\" class=\"dataframe\">\n",
       "  <thead>\n",
       "    <tr style=\"text-align: right;\">\n",
       "      <th></th>\n",
       "      <th>Movie_ID</th>\n",
       "      <th>User_ID</th>\n",
       "      <th>Rating</th>\n",
       "      <th>Date</th>\n",
       "    </tr>\n",
       "  </thead>\n",
       "  <tbody>\n",
       "    <tr>\n",
       "      <th>0</th>\n",
       "      <td>1</td>\n",
       "      <td>1488844</td>\n",
       "      <td>3</td>\n",
       "      <td>2005-09-06</td>\n",
       "    </tr>\n",
       "    <tr>\n",
       "      <th>1</th>\n",
       "      <td>1</td>\n",
       "      <td>822109</td>\n",
       "      <td>5</td>\n",
       "      <td>2005-05-13</td>\n",
       "    </tr>\n",
       "    <tr>\n",
       "      <th>2</th>\n",
       "      <td>1</td>\n",
       "      <td>885013</td>\n",
       "      <td>4</td>\n",
       "      <td>2005-10-19</td>\n",
       "    </tr>\n",
       "    <tr>\n",
       "      <th>3</th>\n",
       "      <td>1</td>\n",
       "      <td>30878</td>\n",
       "      <td>4</td>\n",
       "      <td>2005-12-26</td>\n",
       "    </tr>\n",
       "    <tr>\n",
       "      <th>4</th>\n",
       "      <td>1</td>\n",
       "      <td>823519</td>\n",
       "      <td>3</td>\n",
       "      <td>2004-05-03</td>\n",
       "    </tr>\n",
       "  </tbody>\n",
       "</table>\n",
       "</div>"
      ],
      "text/plain": [
       "   Movie_ID  User_ID  Rating        Date\n",
       "0         1  1488844       3  2005-09-06\n",
       "1         1   822109       5  2005-05-13\n",
       "2         1   885013       4  2005-10-19\n",
       "3         1    30878       4  2005-12-26\n",
       "4         1   823519       3  2004-05-03"
      ]
     },
     "execution_count": 5,
     "metadata": {},
     "output_type": "execute_result"
    }
   ],
   "source": [
    "df.head()"
   ]
  },
  {
   "cell_type": "code",
   "execution_count": 6,
   "id": "9de5aea8",
   "metadata": {},
   "outputs": [],
   "source": [
    "#We will sort the data in ascending order of date\n",
    "\n",
    "df.sort_values(by=['Date'],axis=0,ascending=True,inplace=True)"
   ]
  },
  {
   "cell_type": "code",
   "execution_count": 19,
   "id": "ae651e09",
   "metadata": {},
   "outputs": [
    {
     "data": {
      "text/html": [
       "<div>\n",
       "<style scoped>\n",
       "    .dataframe tbody tr th:only-of-type {\n",
       "        vertical-align: middle;\n",
       "    }\n",
       "\n",
       "    .dataframe tbody tr th {\n",
       "        vertical-align: top;\n",
       "    }\n",
       "\n",
       "    .dataframe thead th {\n",
       "        text-align: right;\n",
       "    }\n",
       "</style>\n",
       "<table border=\"1\" class=\"dataframe\">\n",
       "  <thead>\n",
       "    <tr style=\"text-align: right;\">\n",
       "      <th></th>\n",
       "      <th>Movie_ID</th>\n",
       "      <th>User_ID</th>\n",
       "      <th>Rating</th>\n",
       "      <th>Date</th>\n",
       "    </tr>\n",
       "  </thead>\n",
       "  <tbody>\n",
       "    <tr>\n",
       "      <th>56431994</th>\n",
       "      <td>10341</td>\n",
       "      <td>510180</td>\n",
       "      <td>4</td>\n",
       "      <td>1999-11-11</td>\n",
       "    </tr>\n",
       "    <tr>\n",
       "      <th>9056171</th>\n",
       "      <td>1798</td>\n",
       "      <td>510180</td>\n",
       "      <td>5</td>\n",
       "      <td>1999-11-11</td>\n",
       "    </tr>\n",
       "    <tr>\n",
       "      <th>58698779</th>\n",
       "      <td>10774</td>\n",
       "      <td>510180</td>\n",
       "      <td>3</td>\n",
       "      <td>1999-11-11</td>\n",
       "    </tr>\n",
       "    <tr>\n",
       "      <th>48101611</th>\n",
       "      <td>8651</td>\n",
       "      <td>510180</td>\n",
       "      <td>2</td>\n",
       "      <td>1999-11-11</td>\n",
       "    </tr>\n",
       "    <tr>\n",
       "      <th>81893208</th>\n",
       "      <td>14660</td>\n",
       "      <td>510180</td>\n",
       "      <td>2</td>\n",
       "      <td>1999-11-11</td>\n",
       "    </tr>\n",
       "  </tbody>\n",
       "</table>\n",
       "</div>"
      ],
      "text/plain": [
       "          Movie_ID  User_ID  Rating        Date\n",
       "56431994     10341   510180       4  1999-11-11\n",
       "9056171       1798   510180       5  1999-11-11\n",
       "58698779     10774   510180       3  1999-11-11\n",
       "48101611      8651   510180       2  1999-11-11\n",
       "81893208     14660   510180       2  1999-11-11"
      ]
     },
     "execution_count": 19,
     "metadata": {},
     "output_type": "execute_result"
    }
   ],
   "source": [
    "df.head()"
   ]
  },
  {
   "cell_type": "code",
   "execution_count": 20,
   "id": "aa98fa28",
   "metadata": {},
   "outputs": [
    {
     "data": {
      "text/plain": [
       "Movie_ID    0\n",
       "User_ID     0\n",
       "Rating      0\n",
       "Date        0\n",
       "dtype: int64"
      ]
     },
     "execution_count": 20,
     "metadata": {},
     "output_type": "execute_result"
    }
   ],
   "source": [
    "#Check the null values inside the dataset\n",
    "\n",
    "df.isnull().sum()"
   ]
  },
  {
   "cell_type": "code",
   "execution_count": 22,
   "id": "a6367844",
   "metadata": {},
   "outputs": [
    {
     "data": {
      "text/plain": [
       "0"
      ]
     },
     "execution_count": 22,
     "metadata": {},
     "output_type": "execute_result"
    }
   ],
   "source": [
    "#Check for duplicated records\n",
    "df.duplicated(['Movie_ID','User_ID','Rating']).sum()"
   ]
  },
  {
   "cell_type": "markdown",
   "id": "22de6b16",
   "metadata": {},
   "source": [
    "Good News! : \n",
    "\n",
    "    1. We didn't get any null values\n",
    "    \n",
    "    2. We didn't get any duplicated values    "
   ]
  },
  {
   "cell_type": "code",
   "execution_count": null,
   "id": "e0facc5b",
   "metadata": {},
   "outputs": [],
   "source": [
    "#EDA - \n",
    "\n",
    "#1. Distribution of ratings\n",
    "#2. Add a new column day of week\n",
    "#3. No. of movies rated by a user\n",
    "#4. Plot pdf and cdf of #of movies rated by a user\n",
    "#5. Check the quantile values\n",
    "#6. Zoom the 75th to 100th percentile values.\n",
    "#7. How many ratings are there in the 5% unusual behaviour\n",
    "#8. #users rated a given movie\n",
    "#9. #of ratings given during the weekend\n",
    "#10. Avg rating in a day of week\n"
   ]
  },
  {
   "cell_type": "code",
   "execution_count": 7,
   "id": "4041a03b",
   "metadata": {},
   "outputs": [
    {
     "data": {
      "text/html": [
       "<div>\n",
       "<style scoped>\n",
       "    .dataframe tbody tr th:only-of-type {\n",
       "        vertical-align: middle;\n",
       "    }\n",
       "\n",
       "    .dataframe tbody tr th {\n",
       "        vertical-align: top;\n",
       "    }\n",
       "\n",
       "    .dataframe thead th {\n",
       "        text-align: right;\n",
       "    }\n",
       "</style>\n",
       "<table border=\"1\" class=\"dataframe\">\n",
       "  <thead>\n",
       "    <tr style=\"text-align: right;\">\n",
       "      <th></th>\n",
       "      <th>Movie_ID</th>\n",
       "      <th>User_ID</th>\n",
       "      <th>Rating</th>\n",
       "      <th>Date</th>\n",
       "    </tr>\n",
       "  </thead>\n",
       "  <tbody>\n",
       "    <tr>\n",
       "      <th>56431994</th>\n",
       "      <td>10341</td>\n",
       "      <td>510180</td>\n",
       "      <td>4</td>\n",
       "      <td>1999-11-11</td>\n",
       "    </tr>\n",
       "    <tr>\n",
       "      <th>9056171</th>\n",
       "      <td>1798</td>\n",
       "      <td>510180</td>\n",
       "      <td>5</td>\n",
       "      <td>1999-11-11</td>\n",
       "    </tr>\n",
       "    <tr>\n",
       "      <th>58698779</th>\n",
       "      <td>10774</td>\n",
       "      <td>510180</td>\n",
       "      <td>3</td>\n",
       "      <td>1999-11-11</td>\n",
       "    </tr>\n",
       "    <tr>\n",
       "      <th>48101611</th>\n",
       "      <td>8651</td>\n",
       "      <td>510180</td>\n",
       "      <td>2</td>\n",
       "      <td>1999-11-11</td>\n",
       "    </tr>\n",
       "    <tr>\n",
       "      <th>81893208</th>\n",
       "      <td>14660</td>\n",
       "      <td>510180</td>\n",
       "      <td>2</td>\n",
       "      <td>1999-11-11</td>\n",
       "    </tr>\n",
       "  </tbody>\n",
       "</table>\n",
       "</div>"
      ],
      "text/plain": [
       "          Movie_ID  User_ID  Rating        Date\n",
       "56431994     10341   510180       4  1999-11-11\n",
       "9056171       1798   510180       5  1999-11-11\n",
       "58698779     10774   510180       3  1999-11-11\n",
       "48101611      8651   510180       2  1999-11-11\n",
       "81893208     14660   510180       2  1999-11-11"
      ]
     },
     "execution_count": 7,
     "metadata": {},
     "output_type": "execute_result"
    }
   ],
   "source": [
    "#Basic Statistics\n",
    "\n",
    "df.head()"
   ]
  },
  {
   "cell_type": "code",
   "execution_count": 8,
   "id": "5a4f0925",
   "metadata": {},
   "outputs": [
    {
     "data": {
      "text/plain": [
       "4    33750958\n",
       "3    28811247\n",
       "5    23168232\n",
       "2    10132080\n",
       "1     4617990\n",
       "Name: Rating, dtype: int64"
      ]
     },
     "execution_count": 8,
     "metadata": {},
     "output_type": "execute_result"
    }
   ],
   "source": [
    "df['Rating'].value_counts()"
   ]
  },
  {
   "cell_type": "code",
   "execution_count": 19,
   "id": "80bca409",
   "metadata": {},
   "outputs": [
    {
     "name": "stdout",
     "output_type": "stream",
     "text": [
      "Total # of Ratings : 100480507\n",
      "Total # of Users : 480189\n",
      "Total # of Movies : 17770\n"
     ]
    }
   ],
   "source": [
    "print(f\"Total # of Ratings : {df['Rating'].count()}\")\n",
    "print(f\"Total # of Users : {len(df['User_ID'].unique())}\")\n",
    "print(f\"Total # of Movies : {len(df['Movie_ID'].unique())}\")"
   ]
  },
  {
   "cell_type": "code",
   "execution_count": 14,
   "id": "1ab73ebb",
   "metadata": {},
   "outputs": [
    {
     "data": {
      "text/plain": [
       "480189"
      ]
     },
     "execution_count": 14,
     "metadata": {},
     "output_type": "execute_result"
    }
   ],
   "source": [
    "len(df['User_ID'].unique())"
   ]
  },
  {
   "cell_type": "code",
   "execution_count": 20,
   "id": "168a4da8",
   "metadata": {},
   "outputs": [
    {
     "name": "stdout",
     "output_type": "stream",
     "text": [
      "In average 1 User rates : 209.25199660966828 movies\n"
     ]
    }
   ],
   "source": [
    "print(f\"In average 1 User rates : {df['Rating'].count()/len(df['User_ID'].unique())} movies\")"
   ]
  },
  {
   "cell_type": "code",
   "execution_count": null,
   "id": "990909fb",
   "metadata": {},
   "outputs": [],
   "source": [
    "## We can see that the #of users are more than the #of movies\n",
    "## We have many to many relationship, like one user rates many movies\n",
    "## In average 1 users rates 209 movies --> Quite an interesting number \n",
    "        #--> We need to assess this #\n",
    "    #--> May be its due to outliers\n",
    "    #--> Need to plot a distribution"
   ]
  },
  {
   "cell_type": "code",
   "execution_count": 21,
   "id": "b2b8ba1e",
   "metadata": {},
   "outputs": [],
   "source": [
    "#Before we proceed , we need to split the data into train dataset and test dataset\n",
    "# Why we are doing this step now, because in real world the test data point will not be preprocessed"
   ]
  },
  {
   "cell_type": "code",
   "execution_count": 24,
   "id": "b76f53bb",
   "metadata": {
    "scrolled": true
   },
   "outputs": [
    {
     "data": {
      "text/plain": [
       "((100480507, 4), 100480507)"
      ]
     },
     "execution_count": 24,
     "metadata": {},
     "output_type": "execute_result"
    }
   ],
   "source": [
    "df.shape,df.shape[0]"
   ]
  },
  {
   "cell_type": "code",
   "execution_count": 34,
   "id": "fb788f0c",
   "metadata": {},
   "outputs": [],
   "source": [
    "df_train = df.iloc[:int(df.shape[0]*0.8)]"
   ]
  },
  {
   "cell_type": "code",
   "execution_count": 35,
   "id": "aa75ef5c",
   "metadata": {},
   "outputs": [],
   "source": [
    "df_test = df.iloc[int(df.shape[0]*(0.8)):]"
   ]
  },
  {
   "cell_type": "code",
   "execution_count": 36,
   "id": "f0e17bc4",
   "metadata": {},
   "outputs": [
    {
     "data": {
      "text/html": [
       "<div>\n",
       "<style scoped>\n",
       "    .dataframe tbody tr th:only-of-type {\n",
       "        vertical-align: middle;\n",
       "    }\n",
       "\n",
       "    .dataframe tbody tr th {\n",
       "        vertical-align: top;\n",
       "    }\n",
       "\n",
       "    .dataframe thead th {\n",
       "        text-align: right;\n",
       "    }\n",
       "</style>\n",
       "<table border=\"1\" class=\"dataframe\">\n",
       "  <thead>\n",
       "    <tr style=\"text-align: right;\">\n",
       "      <th></th>\n",
       "      <th>Movie_ID</th>\n",
       "      <th>User_ID</th>\n",
       "      <th>Rating</th>\n",
       "      <th>Date</th>\n",
       "    </tr>\n",
       "  </thead>\n",
       "  <tbody>\n",
       "    <tr>\n",
       "      <th>32637772</th>\n",
       "      <td>5926</td>\n",
       "      <td>2294429</td>\n",
       "      <td>2</td>\n",
       "      <td>2005-08-08</td>\n",
       "    </tr>\n",
       "    <tr>\n",
       "      <th>55518921</th>\n",
       "      <td>10158</td>\n",
       "      <td>1743373</td>\n",
       "      <td>4</td>\n",
       "      <td>2005-08-08</td>\n",
       "    </tr>\n",
       "    <tr>\n",
       "      <th>96207802</th>\n",
       "      <td>17064</td>\n",
       "      <td>381625</td>\n",
       "      <td>5</td>\n",
       "      <td>2005-08-08</td>\n",
       "    </tr>\n",
       "    <tr>\n",
       "      <th>7239677</th>\n",
       "      <td>1443</td>\n",
       "      <td>1252933</td>\n",
       "      <td>5</td>\n",
       "      <td>2005-08-08</td>\n",
       "    </tr>\n",
       "    <tr>\n",
       "      <th>6107277</th>\n",
       "      <td>1201</td>\n",
       "      <td>1434500</td>\n",
       "      <td>4</td>\n",
       "      <td>2005-08-08</td>\n",
       "    </tr>\n",
       "  </tbody>\n",
       "</table>\n",
       "</div>"
      ],
      "text/plain": [
       "          Movie_ID  User_ID  Rating        Date\n",
       "32637772      5926  2294429       2  2005-08-08\n",
       "55518921     10158  1743373       4  2005-08-08\n",
       "96207802     17064   381625       5  2005-08-08\n",
       "7239677       1443  1252933       5  2005-08-08\n",
       "6107277       1201  1434500       4  2005-08-08"
      ]
     },
     "execution_count": 36,
     "metadata": {},
     "output_type": "execute_result"
    }
   ],
   "source": [
    "df_test.head()"
   ]
  },
  {
   "cell_type": "code",
   "execution_count": 45,
   "id": "ee7fc91a",
   "metadata": {},
   "outputs": [
    {
     "name": "stdout",
     "output_type": "stream",
     "text": [
      "Test Stats\n",
      "--------------------------------------------------\n",
      "Total # of ratings in the Train Data : 80384405\n",
      "Total # of users in the Train Data : 405041\n",
      "Total # of movies in the Train Data : 17424\n"
     ]
    }
   ],
   "source": [
    "#Run the basic statistics on the Train data\n",
    "print(\"Train Stats\")\n",
    "print(\"-\"*50)\n",
    "print(f\"Total # of ratings in the Train Data : {df_train['Rating'].count()}\")\n",
    "print(f\"Total # of users in the Train Data : {len(df_train['User_ID'].unique())}\")\n",
    "print(f\"Total # of movies in the Train Data : {len(df_train['Movie_ID'].unique())}\")"
   ]
  },
  {
   "cell_type": "code",
   "execution_count": 41,
   "id": "af669b58",
   "metadata": {},
   "outputs": [],
   "source": [
    "#In train dataset we have less users, than the entire dataset\n",
    "#In train dataset we have less movies, than the enitre dataset\n",
    "\n",
    "#While training the model, it is very obvious to have less #of records, because, in real world we might get new data points,\n",
    "#That means, a new user or a new movie might be introduced."
   ]
  },
  {
   "cell_type": "code",
   "execution_count": 42,
   "id": "0791d47f",
   "metadata": {},
   "outputs": [
    {
     "name": "stdout",
     "output_type": "stream",
     "text": [
      "In Average 1 user rates : 198.4599213412963\n"
     ]
    }
   ],
   "source": [
    "#Check #of movie rating /user\n",
    "print(f\"In Average 1 user rates : {df_train['Rating'].count()/len(df_train['User_ID'].unique())}\")"
   ]
  },
  {
   "cell_type": "code",
   "execution_count": 44,
   "id": "ae8263fe",
   "metadata": {},
   "outputs": [
    {
     "name": "stdout",
     "output_type": "stream",
     "text": [
      "Test Stats\n",
      "--------------------------------------------------\n",
      "Total # of ratings in the Train Data : 20096102\n",
      "Total # of users in the Train Data : 349312\n",
      "Total # of movies in the Train Data : 17757\n"
     ]
    }
   ],
   "source": [
    "#Run the basic statistics on the test data\n",
    "print(\"Test Stats\")\n",
    "print(\"-\"*50)\n",
    "print(f\"Total # of ratings in the Train Data : {df_test['Rating'].count()}\")\n",
    "print(f\"Total # of users in the Train Data : {len(df_test['User_ID'].unique())}\")\n",
    "print(f\"Total # of movies in the Train Data : {len(df_test['Movie_ID'].unique())}\")"
   ]
  },
  {
   "cell_type": "code",
   "execution_count": 49,
   "id": "9360687f",
   "metadata": {},
   "outputs": [
    {
     "data": {
      "text/plain": [
       "<AxesSubplot:xlabel='Rating'>"
      ]
     },
     "execution_count": 49,
     "metadata": {},
     "output_type": "execute_result"
    },
    {
     "data": {
      "image/png": "[encoded data removed]",
      "text/plain": [
       "<Figure size 432x288 with 1 Axes>"
      ]
     },
     "metadata": {
      "needs_background": "light"
     },
     "output_type": "display_data"
    }
   ],
   "source": [
    "#Check the distribution of rating vs No of users\n",
    "\n",
    "df_train.groupby(by='Rating')['User_ID'].count().plot()"
   ]
  },
  {
   "cell_type": "code",
   "execution_count": 75,
   "id": "5ccab014",
   "metadata": {},
   "outputs": [
    {
     "name": "stderr",
     "output_type": "stream",
     "text": [
      "C:\\Users\\silri\\anaconda3\\lib\\site-packages\\seaborn\\_decorators.py:36: FutureWarning: Pass the following variable as a keyword arg: x. From version 0.12, the only valid positional argument will be `data`, and passing other arguments without an explicit keyword will result in an error or misinterpretation.\n",
      "  warnings.warn(\n"
     ]
    },
    {
     "data": {
      "text/plain": [
       "Text(0, 0.5, '# of users')"
      ]
     },
     "execution_count": 75,
     "metadata": {},
     "output_type": "execute_result"
    },
    {
     "data": {
      "image/png": "[encoded data removed]",
      "text/plain": [
       "<Figure size 864x576 with 1 Axes>"
      ]
     },
     "metadata": {
      "needs_background": "light"
     },
     "output_type": "display_data"
    }
   ],
   "source": [
    "#How to increase the figsize of subplots\n",
    "# Ref : https://stackoverflow.com/questions/14770735/how-do-i-change-the-figure-size-with-subplots\n",
    "# Ref :  \n",
    "\n",
    "fig, ax = plt.subplots(figsize=(12,8))\n",
    "plt.title(\"This is the plot to experiment\",fontsize=15)\n",
    "sns.countplot(df_train['Rating'],)\n",
    "plt.xlabel(\"Ratings\",fontsize=15)\n",
    "plt.ylabel(\"# of users\",fontsize=15)"
   ]
  },
  {
   "cell_type": "code",
   "execution_count": null,
   "id": "35c17442",
   "metadata": {},
   "outputs": [],
   "source": [
    "# Here we can see that, "
   ]
  }
 ],
 "metadata": {
  "kernelspec": {
   "display_name": "Python 3 (ipykernel)",
   "language": "python",
   "name": "python3"
  },
  "language_info": {
   "codemirror_mode": {
    "name": "ipython",
    "version": 3
   },
   "file_extension": ".py",
   "mimetype": "text/x-python",
   "name": "python",
   "nbconvert_exporter": "python",
   "pygments_lexer": "ipython3",
   "version": "3.9.7"
  }
 },
 "nbformat": 4,
 "nbformat_minor": 5
}
